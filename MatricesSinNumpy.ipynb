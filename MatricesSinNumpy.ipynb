{
 "cells": [
  {
   "cell_type": "code",
   "execution_count": 1,
   "metadata": {},
   "outputs": [],
   "source": [
    "import numpy as np\n",
    "import pylab as pl\n",
    "import time\n",
    "import matplotlib.pyplot as plt"
   ]
  },
  {
   "cell_type": "code",
   "execution_count": 2,
   "metadata": {},
   "outputs": [
    {
     "name": "stdout",
     "output_type": "stream",
     "text": [
      "100\n"
     ]
    },
    {
     "data": {
      "image/png": "[encoded data removed]",
      "text/plain": [
       "<matplotlib.figure.Figure at 0xebcaa58>"
      ]
     },
     "metadata": {},
     "output_type": "display_data"
    },
    {
     "name": "stdout",
     "output_type": "stream",
     "text": [
      "[6.254442257706115e-07, 3.7300947177962407e-07, 2.973532910982075e-07, 2.1605088742517138e-07, 1.7343752509498441e-07, 1.0728758441615936e-07, 1.0340544224145544e-07, 8.855198516180593e-08, 9.324999208839787e-08, 8.027753173632686e-08, 7.858887855866485e-08, 7.649890277039792e-08, 8.242940644640712e-08, 7.358819557911395e-08, 7.191084243114126e-08, 7.537263323292264e-08, 6.982378293397776e-08, 6.772697824116061e-08, 6.80584885504149e-08, 7.450815307873245e-08, 7.309239544073517e-08, 6.690378340420998e-08, 6.434766054398944e-08, 6.546872180155311e-08, 6.769325616969613e-08, 7.01306779790407e-08, 6.904475819082844e-08, 6.439799541309662e-08, 6.680750110485248e-08, 6.506613734321456e-08, 6.682814232500544e-08, 6.614496379703564e-08, 6.570678285579097e-08, 6.512961074565724e-08, 6.579940098990562e-08, 6.495357076691005e-08, 6.61846112683268e-08, 6.793810528715336e-08, 6.616210958381537e-08, 6.33774658617291e-08, 6.27547055036694e-08, 6.252909965177197e-08, 7.215685173707132e-08, 7.23135632282724e-08, 6.735236862352004e-08, 6.200106064895879e-08, 6.507058758532823e-08, 6.473408779743246e-08, 6.528602793950213e-08, 6.244461451997229e-08, 6.205073213901683e-08, 6.08955560259383e-08, 6.903373188434252e-08, 7.270519330547211e-08, 6.336302809296163e-08, 6.019621627240473e-08, 6.359150810123826e-08, 6.404942620488569e-08, 6.381045711384158e-08, 6.021780562988382e-08, 6.376098536100314e-08, 6.022274180566756e-08, 6.196926634730793e-08, 6.355264113137283e-08, 6.095636807572345e-08, 6.021465944516187e-08, 6.454785463122357e-08, 6.127315774361007e-08, 6.238221322514275e-08, 6.857228065797354e-08, 7.521322826723271e-08, 5.93401397340299e-08, 6.220923206169303e-08, 6.017711281672311e-08, 6.265320270350561e-08, 6.074835688141582e-08, 6.382667676828815e-08, 5.995965818323727e-08, 6.312004342133131e-08, 6.222032994240327e-08, 5.987420561400811e-08, 6.044069560141073e-08, 6.247410218855174e-08, 6.104916932867211e-08, 6.119010861564234e-08, 6.069700150364409e-08, 6.071034148326037e-08, 6.364577679494476e-08, 6.322253895498617e-08, 6.498862676197017e-08, 1.0544259744299525e-07, 7.961848109332613e-08, 7.61020520964535e-08, 7.087325099237402e-08, 6.818696577530022e-08, 7.214360227313279e-08, 6.469855566774044e-08, 6.231716192249318e-08, 7.020289624511093e-08]\n"
     ]
    }
   ],
   "source": [
    "n = raw_input()\n",
    "\n",
    "\n",
    "\n",
    "def crear_matriz1(numero_filas, numero_columnas):\n",
    "    matriz = []\n",
    "    for i in range(numero_filas):\n",
    "            matriz.append([])\n",
    "            for j in range(numero_columnas):\n",
    "                    n = 1\n",
    "                    matriz[i].append(n)\n",
    "    return matriz\n",
    "\n",
    "def crear_matriz2(numero_filas, numero_columnas):\n",
    "    matriz = []\n",
    "    for i in range(numero_filas):\n",
    "            matriz.append([])\n",
    "            for j in range(numero_columnas):\n",
    "                    n = 2\n",
    "                    matriz[i].append(n)\n",
    "    return matriz\n",
    "\n",
    "def multiplicacion(matrizA, matrizB, h):\n",
    "    c=[]\n",
    "    for k in range(0,h):\n",
    "        aux = []\n",
    "        for j in range(0,h):\n",
    "            aux1=0\n",
    "            for i in range(0,h):\n",
    "                aux1=aux1+(matrizA[k][i]*matrizB[i][j])\n",
    "            aux.append(aux1)\n",
    "        c.append(aux)           \n",
    "    return c\n",
    "lista2=[]\n",
    "for m in range(2,int(n)+1):\n",
    "    matrizA=crear_matriz1(int(m),int(m))\n",
    "    matrizB=crear_matriz2(int(m),int(m))\n",
    "    lista=[]\n",
    "    for i in range(10):\n",
    "            t0=time.clock()\n",
    "            multiplicacion(matrizA,matrizB,m)\n",
    "            tf=time.clock()\n",
    "            ca=(tf-t0)/(2*int(m)**3)\n",
    "            lista.append(ca)\n",
    "    avg=np.average(lista)\n",
    "    lista2.append(avg)\n",
    "    \n",
    "rango = np.arange(1,int(n),1)\n",
    "pl.ylabel(\"y\")\n",
    "pl.xlabel('x')\n",
    "pl.plot(rango, lista2)\n",
    "pl.show()\n",
    "print lista2"
   ]
  },
  {
   "cell_type": "code",
   "execution_count": null,
   "metadata": {},
   "outputs": [],
   "source": []
  }
 ],
 "metadata": {
  "kernelspec": {
   "display_name": "Python 2",
   "language": "python",
   "name": "python2"
  },
  "language_info": {
   "codemirror_mode": {
    "name": "ipython",
    "version": 2
   },
   "file_extension": ".py",
   "mimetype": "text/x-python",
   "name": "python",
   "nbconvert_exporter": "python",
   "pygments_lexer": "ipython2",
   "version": "2.7.14"
  }
 },
 "nbformat": 4,
 "nbformat_minor": 1
}
