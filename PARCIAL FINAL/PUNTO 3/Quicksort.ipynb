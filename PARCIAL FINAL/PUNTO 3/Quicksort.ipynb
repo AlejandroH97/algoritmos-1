{
 "cells": [
  {
   "cell_type": "code",
   "execution_count": 7,
   "metadata": {},
   "outputs": [],
   "source": [
    "import random\n",
    "import statistics\n",
    "import math\n",
    "\n",
    "import matplotlib.pyplot as plt\n",
    "%matplotlib inline"
   ]
  },
  {
   "cell_type": "code",
   "execution_count": 8,
   "metadata": {},
   "outputs": [],
   "source": [
    "def QuickSort(alist,times):\n",
    "    comp = [0]\n",
    "    QuickSortAux(alist,0,len(alist)-1,comp)\n",
    "    times.append(comp[0])"
   ]
  },
  {
   "cell_type": "code",
   "execution_count": 9,
   "metadata": {},
   "outputs": [],
   "source": [
    "def QuickSortAux(alist,first,last,comp):\n",
    "    if first<last:\n",
    "        r = Partition(alist,first,last)\n",
    "        splitpoint = r[0]\n",
    "        tmp = comp.pop()\n",
    "        comp.append(tmp+r[1])\n",
    "        \n",
    "        QuickSortAux(alist,first,splitpoint-1,comp)\n",
    "        QuickSortAux(alist,splitpoint+1,last,comp)"
   ]
  },
  {
   "cell_type": "code",
   "execution_count": 10,
   "metadata": {},
   "outputs": [],
   "source": [
    "def Partition(alist,first,last):\n",
    "  \n",
    "    indxpiv = random.randint(first,last)\n",
    "    temp = alist[indxpiv]\n",
    "    alist[indxpiv] = alist[first]\n",
    "    alist[first] = temp\n",
    "   \n",
    "    pivotvalue = alist[first]\n",
    "    compspart = 0\n",
    "\n",
    "    leftmark = first+1\n",
    "    rightmark = last\n",
    "\n",
    "    done = False\n",
    "    while not done:\n",
    "        while leftmark <= rightmark and alist[leftmark] <= pivotvalue:\n",
    "            leftmark = leftmark + 1\n",
    "            compspart = compspart + 1\n",
    "        compspart = compspart + 1\n",
    "\n",
    "        while alist[rightmark] >= pivotvalue and rightmark >= leftmark:\n",
    "            rightmark = rightmark -1\n",
    "            compspart = compspart + 1\n",
    "        compspart = compspart + 1\n",
    "\n",
    "        if rightmark < leftmark:\n",
    "            done = True\n",
    "        else:\n",
    "            temp = alist[leftmark]\n",
    "            alist[leftmark] = alist[rightmark]\n",
    "            alist[rightmark] = temp\n",
    "\n",
    "    temp = alist[first]\n",
    "    alist[first] = alist[rightmark]\n",
    "    alist[rightmark] = temp\n",
    "\n",
    "\n",
    "    return rightmark,compspart"
   ]
  },
  {
   "cell_type": "code",
   "execution_count": 11,
   "metadata": {},
   "outputs": [],
   "source": [
    "def RunQuickSort(s,r):\n",
    "    \n",
    "    # Create an array of 1 .. n  \n",
    "    n=s\n",
    "    runs=r\n",
    "    x = []\n",
    "    for i in range(1,n+1):\n",
    "        x.append(n+1-i)\n",
    "    \n",
    "     # Run quicksort for each permutation\n",
    "    tlist =[]\n",
    "    for p in range(1,runs+1):\n",
    "        y = list(x)\n",
    "        QuickSort(y,tlist)\n",
    "          \n",
    "    count = 0\n",
    "    for i in range (len(tlist)):\n",
    "        if (tlist[i] >= 96):\n",
    "            count += 1\n",
    "            \n",
    "            \n",
    "    plt.hist(tlist, color=\"r\")\n",
    "    plt.rcParams['figure.figsize'] = 11,7 # width, height\n",
    "    plt.title(\"Distribucion Quick sort 10 millones de veces\")\n",
    "    plt.xlabel(\"Comparaciones\")\n",
    "    plt.ylabel(\"Frecuencia\")\n",
    "    plt.grid(linestyle=\"dotted\")\n",
    "    \n",
    "    plt.show()\n",
    "    \n",
    "    print (\"N:\",n)\n",
    "    print (\"Cantidad de ejecuciones:\", runs)\n",
    "    print (\"Promedio teorico:\", 16*math.log(16)/math.log(2))\n",
    "    print (\"Promedio experimental:\", statistics.mean(tlist))\n",
    "    print (\"Diferencia entre promedio teorico y experimental:\", statistics.mean(tlist) - 16*math.log(16)/math.log(2))\n",
    "    print (\"Desviacion estandar:\", statistics.stdev(tlist))\n",
    "    print (\"Probabilidad que se demore 1.5 más que el promedio:\", float(count)/float(len(tlist)))\n",
    "    print (\"Mínimo:\", min(tlist))\n",
    "    print (\"Máximo:\", max(tlist))\n",
    "    print (\"Procesador: Intel(R) Core(TM) i5-4210U CPU @ 1.70GHz (4CPUs), -2.4GHz\")\n",
    "    print (\"Memoria: 8192MB RAM\")\n",
    "    print (\"Moldelo: HP ENVY 15 Notebook PC\")\n",
    "    print (\"SO : Windows 10 Enterprise 64 bits\")"
   ]
  },
  {
   "cell_type": "code",
   "execution_count": 12,
   "metadata": {},
   "outputs": [
    {
     "data": {
      "image/png": "[encoded data removed]",
      "text/plain": [
       "<matplotlib.figure.Figure at 0x7f7a06fc32e8>"
      ]
     },
     "metadata": {},
     "output_type": "display_data"
    },
    {
     "name": "stdout",
     "output_type": "stream",
     "text": [
      "N: 16\n",
      "Cantidad de ejecuciones: 10000000\n",
      "Promedio teorico: 64.0\n",
      "Promedio experimental: 83.6668483\n",
      "Diferencia entre promedio teorico y experimental: 19.666848299999998\n",
      "Desviacion estandar: 7.093890616376568\n",
      "Probabilidad que se demore 1.5 más que el promedio: 0.0659391\n",
      "Mínimo: 67\n",
      "Máximo: 138\n",
      "Procesador: Intel(R) Core(TM) i5-4210U CPU @ 1.70GHz (4CPUs), -2.4GHz\n",
      "Memoria: 8192MB RAM\n",
      "Moldelo: HP ENVY 15 Notebook PC\n",
      "SO : Windows 10 Enterprise 64 bits\n"
     ]
    }
   ],
   "source": [
    "RunQuickSort(16, 10000000)"
   ]
  }
 ],
 "metadata": {
  "kernelspec": {
   "display_name": "Python 3",
   "language": "python",
   "name": "python3"
  },
  "language_info": {
   "codemirror_mode": {
    "name": "ipython",
    "version": 3
   },
   "file_extension": ".py",
   "mimetype": "text/x-python",
   "name": "python",
   "nbconvert_exporter": "python",
   "pygments_lexer": "ipython3",
   "version": "3.6.5"
  }
 },
 "nbformat": 4,
 "nbformat_minor": 2
}
